{
 "cells": [
  {
   "attachments": {},
   "cell_type": "markdown",
   "metadata": {},
   "source": [
    "### Data Science and Machine Learning Toolkit\n",
    "#### By: Sebastián Medina Jiménez \n",
    "https://www.linkedin.com/in/sebasmedina/\n",
    "## 2.  Pipelines in scikit-learn\n",
    "\n",
    "\n"
   ]
  },
  {
   "cell_type": "code",
   "execution_count": 1,
   "metadata": {},
   "outputs": [],
   "source": [
    "from sklearn.datasets import load_iris\n",
    "from sklearn.preprocessing import StandardScaler\n",
    "from sklearn.impute import SimpleImputer\n",
    "from sklearn.pipeline import Pipeline\n",
    "from sklearn.ensemble import RandomForestClassifier\n",
    "\n",
    "# Load the Iris dataset\n",
    "iris = load_iris()\n",
    "\n",
    "# Access the data and target variables\n",
    "X = iris.data  # Features\n",
    "y = iris.target  # Target variables"
   ]
  },
  {
   "cell_type": "markdown",
   "metadata": {},
   "source": [
    "Adjust the pipeline  with :\n",
    "1. Standard scaling\n",
    "2. Imputer of missing data\n",
    "3. Random forest classifier"
   ]
  },
  {
   "cell_type": "code",
   "execution_count": 2,
   "metadata": {},
   "outputs": [],
   "source": [
    "from sklearn.model_selection import train_test_split\n",
    "from sklearn.metrics import confusion_matrix, accuracy_score, precision_score, recall_score\n",
    "\n",
    "# Split the data into training and testing sets\n",
    "X_train, X_test, y_train, y_test = train_test_split(X, y, test_size=0.2, random_state=42)\n",
    "\n",
    "\n",
    "pipeline = Pipeline([\n",
    "    ('scaler', StandardScaler()),      # Step 1: Standardization\n",
    "    ('imputer', SimpleImputer()),      # Step 2: Impute missing data\n",
    "    ('classifier', RandomForestClassifier())  # Step 3: Classification model\n",
    "])"
   ]
  },
  {
   "cell_type": "markdown",
   "metadata": {},
   "source": [
    "Fit the  model and  measure  the metrics"
   ]
  },
  {
   "cell_type": "code",
   "execution_count": 3,
   "metadata": {},
   "outputs": [
    {
     "name": "stdout",
     "output_type": "stream",
     "text": [
      "Confusion Matrix:\n",
      " [[10  0  0]\n",
      " [ 0  9  0]\n",
      " [ 0  0 11]]\n",
      "Accuracy: 100.000%\n",
      "Precision: 1.000\n",
      "Recall: 1.000\n"
     ]
    }
   ],
   "source": [
    "# Fit the pipeline to the training data\n",
    "pipeline.fit(X_train, y_train)\n",
    "\n",
    "# Make predictions on the test data\n",
    "y_pred = pipeline.predict(X_test)\n",
    "\n",
    "# Calculate the confusion matrix\n",
    "conf_matrix = confusion_matrix(y_test, y_pred)\n",
    "\n",
    "# Calculate accuracy\n",
    "accuracy = accuracy_score(y_test, y_pred)\n",
    "\n",
    "# Calculate precision\n",
    "precision = precision_score(y_test, y_pred, average='weighted')\n",
    "\n",
    "# Calculate recall\n",
    "recall = recall_score(y_test, y_pred, average='weighted')\n",
    "\n",
    "# Print the results\n",
    "print(\"Confusion Matrix:\\n\", conf_matrix)\n",
    "print(\"Accuracy: {:.3f}%\".format(accuracy * 100))\n",
    "print(\"Precision: {:.3f}\".format(precision))\n",
    "print(\"Recall: {:.3f}\".format(recall))"
   ]
  },
  {
   "cell_type": "markdown",
   "metadata": {},
   "source": [
    "**Explanation of Classification Metrics**\n",
    "\n",
    "- **Confusion Matrix:**\n",
    "  - The confusion matrix is a table that shows how your classification model performed.\n",
    "  - In this case, you have a 3x3 matrix. Each row represents the actual class, and each column represents the predicted class.\n",
    "  - The diagonal elements (from top-left to bottom-right) show the number of correct predictions, where the predicted class matches the actual class. In this matrix, all diagonal elements are non-zero, indicating perfect predictions.\n",
    "  - In the given confusion matrix, it shows that your model made:\n",
    "    - 10 correct predictions for class 0,\n",
    "    - 9 correct predictions for class 1, and\n",
    "    - 11 correct predictions for class 2.\n",
    "\n",
    "- **Accuracy (100.00%):**\n",
    "  - Accuracy is a measure of how many of the predictions were correct out of the total predictions.\n",
    "  - An accuracy of 100% means that all predictions were correct. It's the best possible score.\n",
    "\n",
    "- **Precision (1.00):**\n",
    "  - Precision measures how many of the positive predictions (in this case, classes 0, 1, and 2) were actually correct.\n",
    "  - A precision of 1.00 means that all positive predictions were correct. There were no false positives.\n",
    "\n",
    "- **Recall (1.00):**\n",
    "  - Recall (or sensitivity) measures how many of the actual positive cases (classes 0, 1, and 2) were correctly predicted.\n",
    "  - A recall of 1.00 means that all actual positive cases were predicted correctly. There were no false negatives.\n"
   ]
  }
 ],
 "metadata": {
  "kernelspec": {
   "display_name": "base",
   "language": "python",
   "name": "python3"
  },
  "language_info": {
   "codemirror_mode": {
    "name": "ipython",
    "version": 3
   },
   "file_extension": ".py",
   "mimetype": "text/x-python",
   "name": "python",
   "nbconvert_exporter": "python",
   "pygments_lexer": "ipython3",
   "version": "3.10.9"
  },
  "orig_nbformat": 4
 },
 "nbformat": 4,
 "nbformat_minor": 2
}
